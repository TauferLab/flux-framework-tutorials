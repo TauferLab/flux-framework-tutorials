{
 "cells": [
  {
   "cell_type": "markdown",
   "id": "847b82ec-3381-48eb-934e-b16a70be56e3",
   "metadata": {},
   "source": [
    "## Molecular Dynamics-Inspired Proxy Workflow\n",
    "\n",
    "This workflow uses the framework from the NSF-funded Analytics4MD project (https://analytics4md.org/) to create a proxy for a common data movement pattern in Molecular Dynamics (MD) workflows. The figure below shows how the A4MD framework operates at a high level:\n",
    "\n",
    "![a4md](a4md_wflow.png)"
   ]
  },
  {
   "cell_type": "markdown",
   "id": "66dfcde2-90d0-435f-a46d-564dbcf549ab",
   "metadata": {},
   "source": [
    "### Set configuration parameters\n",
    "\n",
    "Set the directories to be used in this demo"
   ]
  },
  {
   "cell_type": "code",
   "execution_count": null,
   "id": "5ef2e902-cec9-4dc1-aa95-86a0b986559c",
   "metadata": {},
   "outputs": [],
   "source": [
    "producer_staging_directory = \"/tmp/md_prod\"\n",
    "consumer_staging_directory = \"/tmp/md_cons\"\n",
    "shared_staging_directory = \"/tmp/md_shared\""
   ]
  },
  {
   "cell_type": "markdown",
   "id": "0b9f39ea-e4d5-4003-a036-116a76534081",
   "metadata": {},
   "source": [
    "Set a namespace in the Flux KVS that DYAD will use"
   ]
  },
  {
   "cell_type": "code",
   "execution_count": null,
   "id": "ee033d57-6873-4fa2-9505-02749725bfd0",
   "metadata": {},
   "outputs": [],
   "source": [
    "kvs_namespace = \"dyad_md_example\""
   ]
  },
  {
   "cell_type": "markdown",
   "id": "e8869436-8eba-4ffe-baf4-91210c4a4057",
   "metadata": {},
   "source": [
    "Set the application parameters. For this simple point-to-point workflow, there are two:\n",
    "1. `num_frames`: the number of frames (i.e., snapshots of the molecular system) to be produced/consumed\n",
    "2. `num_atoms`: the number of atoms in the molecular system"
   ]
  },
  {
   "cell_type": "code",
   "execution_count": null,
   "id": "a28c97ad-675b-40b2-af90-92987aba9307",
   "metadata": {},
   "outputs": [],
   "source": [
    "num_frames = 10\n",
    "num_atoms = 200"
   ]
  },
  {
   "cell_type": "markdown",
   "id": "c0b46eff-d6d9-4b27-a43c-66452cc3a07b",
   "metadata": {},
   "source": [
    "Set the paths to the Python modules implementing the producer and consumer applications"
   ]
  },
  {
   "cell_type": "code",
   "execution_count": null,
   "id": "228f6971-5bfe-4763-9836-a15f64810dad",
   "metadata": {},
   "outputs": [],
   "source": [
    "py_generation_module = \"/usr/libexec/load.py\"\n",
    "py_analysis_module = \"/usr/libexec/compute.py\""
   ]
  },
  {
   "cell_type": "markdown",
   "id": "45754e86-ed2a-48a6-98ee-b3463b9f740e",
   "metadata": {},
   "source": [
    "Set the entrypoint functions for the producer and consumer applications"
   ]
  },
  {
   "cell_type": "code",
   "execution_count": null,
   "id": "e8100fc8-a1c7-4012-8d4a-e2627f42892f",
   "metadata": {},
   "outputs": [],
   "source": [
    "py_generation_func = \"extract_frame\"\n",
    "py_analysis_func = \"analyze\""
   ]
  },
  {
   "cell_type": "markdown",
   "id": "6ebdefa0-3b58-4d2e-b6bc-529cc5e60051",
   "metadata": {},
   "source": [
    "Set the paths to the libraries implementing DYAD's service and DYAD's I/O interception"
   ]
  },
  {
   "cell_type": "code",
   "execution_count": null,
   "id": "2097e382-8175-4c3e-8951-17045007878c",
   "metadata": {},
   "outputs": [],
   "source": [
    "dyad_module = \"/usr/lib/x86_64-linux-gnu/dyad.so\"\n",
    "dyad_wrapper_library = \"/usr/lib/x86_64-linux-gnu/dyad_wrapper.so\""
   ]
  },
  {
   "cell_type": "markdown",
   "id": "78e04e5d-b82e-4f91-9b9f-5eb9d024b62c",
   "metadata": {},
   "source": [
    "Create the staging directories specified above"
   ]
  },
  {
   "cell_type": "code",
   "execution_count": null,
   "id": "e1e0ba63-06a9-483a-b2c0-01c8149ba88e",
   "metadata": {},
   "outputs": [],
   "source": [
    "!rm -rf {producer_staging_directory}\n",
    "!mkdir -p {producer_staging_directory}\n",
    "!chmod 755 {producer_staging_directory}\n",
    "!rm -rf {consumer_staging_directory}\n",
    "!mkdir -p {consumer_staging_directory}\n",
    "!chmod 755 {consumer_staging_directory}\n",
    "!rm -rf {shared_staging_directory}\n",
    "!mkdir -p {shared_staging_directory}\n",
    "!chmod 755 {shared_staging_directory}"
   ]
  },
  {
   "cell_type": "markdown",
   "id": "cf6e1240-bbb7-4d16-bc8e-e0fb89e23f9d",
   "metadata": {},
   "source": [
    "### MD Workflow using Local Storage\n",
    "\n",
    "This run of the workflow assumes that the generated data will be saved in local storage. In this case, DYAD will provide two services to the workflow:\n",
    "1. DYAD will block the consumer until data is made available\n",
    "2. DYAD will transfer the data from the producer's local storage to the consumer's local storage when the consumer tries to access the data\n",
    "\n",
    "Since this example is running in Docker, the producer and consumer are running on the same \"node\". To emulate the use of node-local storage in HPC, we specify separate \"managed\" directories for the producer and consumer. When running on an actual HPC system, the \"managed\" directories would be the same for both producer and consumer, and they would point to some node-local storage resource (e.g., `/tmp`, `/p/ssd`). "
   ]
  },
  {
   "cell_type": "markdown",
   "id": "be080f4c-3422-44b0-9efb-a153a8c98a44",
   "metadata": {},
   "source": [
    "Start the Flux KVS namespace to be used by DYAD in the workflow"
   ]
  },
  {
   "cell_type": "code",
   "execution_count": null,
   "id": "a0ca5074-b822-4094-8628-e2bbd92c54d9",
   "metadata": {},
   "outputs": [],
   "source": [
    "!flux kvs namespace create {kvs_namespace}\n",
    "!flux kvs namespace list"
   ]
  },
  {
   "cell_type": "markdown",
   "id": "5e98bd26-808c-4892-b927-28370eb70306",
   "metadata": {},
   "source": [
    "Start the DYAD service"
   ]
  },
  {
   "cell_type": "code",
   "execution_count": null,
   "id": "29b16266-943f-46c8-9cb3-a28368148ae1",
   "metadata": {},
   "outputs": [],
   "source": [
    "!flux exec -r all flux module load {dyad_module} {producer_staging_directory}"
   ]
  },
  {
   "cell_type": "code",
   "execution_count": null,
   "id": "27ce461c-a156-44c9-abf0-8a50205800d5",
   "metadata": {},
   "outputs": [],
   "source": [
    "!flux exec -r 0 flux module list"
   ]
  },
  {
   "cell_type": "markdown",
   "id": "04b96d79-5f41-41eb-9e09-de61d57360eb",
   "metadata": {},
   "source": [
    "Generate the commands to launch producer and consumer"
   ]
  },
  {
   "cell_type": "code",
   "execution_count": null,
   "id": "15789b69-1536-4b08-9b46-90a3e8fdc2fd",
   "metadata": {},
   "outputs": [],
   "source": [
    "producer_cmd = \"LD_PRELOAD={wrapper_lib} DYAD_KVS_NAMESPACE={kvs_namespace} \\\n",
    "DYAD_PATH_PRODUCER={producer_dir} DYAD_DTL_MODE=UCX flux run -N 1 -n 1 \\\n",
    "/usr/bin/balanced_producer {gen_module_path} {gen_func} {n_frames} {n_atoms} \\\n",
    "0 -d {producer_dir}\".format(\n",
    "    wrapper_lib=dyad_wrapper_library,\n",
    "    kvs_namespace=kvs_namespace,\n",
    "    producer_dir=producer_staging_directory,\n",
    "    gen_module_path=py_generation_module,\n",
    "    gen_func=py_generation_func,\n",
    "    n_frames=num_frames,\n",
    "    n_atoms=num_atoms,\n",
    ")\n",
    "print(producer_cmd)"
   ]
  },
  {
   "cell_type": "code",
   "execution_count": null,
   "id": "3251fb37-b757-41f5-a22c-c4c7c0bd9171",
   "metadata": {},
   "outputs": [],
   "source": [
    "consumer_cmd = \"LD_PRELOAD={wrapper_lib} DYAD_KVS_NAMESPACE={kvs_namespace} \\\n",
    "DYAD_PATH_CONSUMER={consumer_dir} DYAD_DTL_MODE=UCX flux run -N 1 -n 1 \\\n",
    "/usr/bin/balanced_consumer {analysis_mod_path} {analysis_func} {n_frames} \\\n",
    "-d {consumer_dir}\".format(\n",
    "    wrapper_lib=dyad_wrapper_library,\n",
    "    kvs_namespace=kvs_namespace,\n",
    "    consumer_dir=consumer_staging_directory,\n",
    "    analysis_mod_path=py_analysis_module,\n",
    "    analysis_func=py_analysis_func,\n",
    "    n_frames=num_frames\n",
    ")\n",
    "print(consumer_cmd)"
   ]
  },
  {
   "cell_type": "markdown",
   "id": "36938178-d6da-45a1-a743-68d861ae8b49",
   "metadata": {},
   "source": [
    "Launch the workflow tasks\n",
    "\n",
    "Since this demo is running in Jupyter, launching the consumer first will block other cells in the notebook from running. Due to this, the producer must be launched in a terminal."
   ]
  },
  {
   "cell_type": "code",
   "execution_count": null,
   "id": "67db0860-4b39-4112-bd7b-ccebc1594c1c",
   "metadata": {},
   "outputs": [],
   "source": [
    "!{consumer_cmd}"
   ]
  },
  {
   "cell_type": "code",
   "execution_count": null,
   "id": "04157b18-e92e-4d56-9b8e-06645001d136",
   "metadata": {},
   "outputs": [],
   "source": [
    "# Run producer_cmd in terminal"
   ]
  },
  {
   "cell_type": "markdown",
   "id": "1ba18c72-f456-430f-b242-0cc84327c892",
   "metadata": {},
   "source": [
    "Confirm that the data transfer happened"
   ]
  },
  {
   "cell_type": "code",
   "execution_count": null,
   "id": "77801bba-6e62-4e54-943e-99406a9a2ad8",
   "metadata": {},
   "outputs": [],
   "source": [
    "!ls -lah {producer_staging_directory}/group0"
   ]
  },
  {
   "cell_type": "code",
   "execution_count": null,
   "id": "d2ee08fe-344d-4012-96d0-2c9a3b92efc4",
   "metadata": {},
   "outputs": [],
   "source": [
    "!ls -lah {consumer_staging_directory}/group0"
   ]
  },
  {
   "cell_type": "markdown",
   "id": "a7483828-d1ac-4e86-977c-d8f0c12e8da6",
   "metadata": {},
   "source": [
    "Cleanup the Flux KVS and shutdown the DYAD service"
   ]
  },
  {
   "cell_type": "code",
   "execution_count": null,
   "id": "51f99e8a-d53a-4733-8a82-3e69a9fc0f1f",
   "metadata": {},
   "outputs": [],
   "source": [
    "!flux exec -r all flux module unload dyad"
   ]
  },
  {
   "cell_type": "code",
   "execution_count": null,
   "id": "63ee68c0-ce10-43be-b209-1f74fe621a4d",
   "metadata": {},
   "outputs": [],
   "source": [
    "!echo \"Modules Post-Cleanup\"\n",
    "!echo \"====================\"\n",
    "!flux module list"
   ]
  },
  {
   "cell_type": "code",
   "execution_count": null,
   "id": "e6dfab30-b646-4a5b-980f-c04850f1dcf8",
   "metadata": {},
   "outputs": [],
   "source": [
    "!flux kvs namespace remove {kvs_namespace}"
   ]
  },
  {
   "cell_type": "code",
   "execution_count": null,
   "id": "71439048-b770-414a-9504-dfedf3b8cd63",
   "metadata": {},
   "outputs": [],
   "source": [
    "!echo \"KVS Namespaces Post-Cleanup\"\n",
    "!echo \"===========================\"\n",
    "!flux kvs namespace list"
   ]
  },
  {
   "cell_type": "markdown",
   "id": "c68a6c75-46bc-481f-8430-75b91ce91d13",
   "metadata": {},
   "source": [
    "### MD Workflow using Shared Storage\n",
    "\n",
    "This run of the workflow assumes that the generated data will be saved in shared storage (e.g., `/p/lustre1` on LC). In this case, DYAD will only provide consumer blocking. It will not transfer data."
   ]
  },
  {
   "cell_type": "markdown",
   "id": "595fdc3f-a83f-453a-b9a8-0f538ccd8de8",
   "metadata": {},
   "source": [
    "Create the KVS namespace and start the DYAD service"
   ]
  },
  {
   "cell_type": "code",
   "execution_count": null,
   "id": "01ccf1cd-6704-4dac-a1ab-87d86994f39d",
   "metadata": {},
   "outputs": [],
   "source": [
    "!flux kvs namespace create {kvs_namespace}\n",
    "!flux exec -r all flux module load {dyad_module} {shared_staging_directory}"
   ]
  },
  {
   "cell_type": "markdown",
   "id": "57efb45f-9071-4629-8111-659cb927c982",
   "metadata": {},
   "source": [
    "Generate commands to launch the producer and consumer"
   ]
  },
  {
   "cell_type": "code",
   "execution_count": null,
   "id": "6da78870-f49f-4da8-85c3-5120cdd1cf74",
   "metadata": {
    "tags": []
   },
   "outputs": [],
   "source": [
    "producer_cmd = \"LD_PRELOAD={wrapper_lib} DYAD_KVS_NAMESPACE={kvs_namespace} \\\n",
    "DYAD_PATH_PRODUCER={producer_dir} DYAD_SHARED_STORAGE=1 DYAD_DTL_MODE=UCX \\\n",
    "flux run -N 1 -n 1 \\\n",
    "/usr/bin/balanced_producer {gen_module_path} {gen_func} {n_frames} {n_atoms} \\\n",
    "0 -d {producer_dir}\".format(\n",
    "    wrapper_lib=dyad_wrapper_library,\n",
    "    kvs_namespace=kvs_namespace,\n",
    "    producer_dir=shared_staging_directory,\n",
    "    gen_module_path=py_generation_module,\n",
    "    gen_func=py_generation_func,\n",
    "    n_frames=num_frames,\n",
    "    n_atoms=num_atoms,\n",
    ")\n",
    "print(producer_cmd)"
   ]
  },
  {
   "cell_type": "code",
   "execution_count": null,
   "id": "000cf547-6f0a-464f-bbcd-e070de4dbad6",
   "metadata": {},
   "outputs": [],
   "source": [
    "consumer_cmd = \"LD_PRELOAD={wrapper_lib} DYAD_KVS_NAMESPACE={kvs_namespace} \\\n",
    "DYAD_PATH_CONSUMER={consumer_dir} DYAD_SHARED_STORAGE=1 DYAD_DTL_MODE=UCX \\\n",
    "flux run -N 1 -n 1 \\\n",
    "/usr/bin/balanced_consumer {analysis_mod_path} {analysis_func} {n_frames} \\\n",
    "-d {consumer_dir}\".format(\n",
    "    wrapper_lib=dyad_wrapper_library,\n",
    "    kvs_namespace=kvs_namespace,\n",
    "    consumer_dir=shared_staging_directory,\n",
    "    analysis_mod_path=py_analysis_module,\n",
    "    analysis_func=py_analysis_func,\n",
    "    n_frames=num_frames\n",
    ")\n",
    "print(consumer_cmd)"
   ]
  },
  {
   "cell_type": "markdown",
   "id": "fee35323-6430-4623-9d28-86aba9e51026",
   "metadata": {},
   "source": [
    "Launch the workflow tasks"
   ]
  },
  {
   "cell_type": "code",
   "execution_count": null,
   "id": "88e6e229-cff6-4bf1-b2a0-bbc305839b28",
   "metadata": {},
   "outputs": [],
   "source": [
    "!{consumer_cmd}"
   ]
  },
  {
   "cell_type": "code",
   "execution_count": null,
   "id": "6f8dfecd-0550-4e23-8a08-923a206fa256",
   "metadata": {},
   "outputs": [],
   "source": [
    "# Run producer_cmd in terminal"
   ]
  },
  {
   "cell_type": "markdown",
   "id": "7fb6377e-fab0-455a-b69f-97d8af76f647",
   "metadata": {},
   "source": [
    "Check that the data is in the shared storage directory"
   ]
  },
  {
   "cell_type": "code",
   "execution_count": null,
   "id": "b59f422b-e0db-4e76-a313-9d9e82952d83",
   "metadata": {},
   "outputs": [],
   "source": [
    "!ls -lah {shared_staging_directory}/group0"
   ]
  },
  {
   "cell_type": "markdown",
   "id": "ca4b72d0-c555-4173-bc42-cc1522e53988",
   "metadata": {},
   "source": [
    "Cleanup the Flux KVS and shutdown the DYAD service"
   ]
  },
  {
   "cell_type": "code",
   "execution_count": null,
   "id": "e52fc768-bc3f-4228-904c-4678190c50d4",
   "metadata": {},
   "outputs": [],
   "source": [
    "!flux exec -r all flux module unload dyad"
   ]
  },
  {
   "cell_type": "code",
   "execution_count": null,
   "id": "778e470c-f4d0-4cee-b44c-f332b9f7d872",
   "metadata": {},
   "outputs": [],
   "source": [
    "!echo \"Modules Post-Cleanup\"\n",
    "!echo \"====================\"\n",
    "!flux module list"
   ]
  },
  {
   "cell_type": "code",
   "execution_count": null,
   "id": "c5b6da46-b22c-4e50-ac1a-3f930fe3e244",
   "metadata": {},
   "outputs": [],
   "source": [
    "!flux kvs namespace remove {kvs_namespace}"
   ]
  },
  {
   "cell_type": "code",
   "execution_count": null,
   "id": "6ba1fa8b-65d8-4116-8e4e-e0fe06ebb1e5",
   "metadata": {},
   "outputs": [],
   "source": [
    "!echo \"KVS Namespaces Post-Cleanup\"\n",
    "!echo \"===========================\"\n",
    "!flux kvs namespace list"
   ]
  }
 ],
 "metadata": {
  "kernelspec": {
   "display_name": "Python 3 (ipykernel)",
   "language": "python",
   "name": "python3"
  },
  "language_info": {
   "codemirror_mode": {
    "name": "ipython",
    "version": 3
   },
   "file_extension": ".py",
   "mimetype": "text/x-python",
   "name": "python",
   "nbconvert_exporter": "python",
   "pygments_lexer": "ipython3",
   "version": "3.9.12"
  }
 },
 "nbformat": 4,
 "nbformat_minor": 5
}
